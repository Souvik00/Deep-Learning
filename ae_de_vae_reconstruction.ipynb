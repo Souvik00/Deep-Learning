{
  "nbformat": 4,
  "nbformat_minor": 0,
  "metadata": {
    "colab": {
      "provenance": [],
      "gpuType": "T4"
    },
    "kernelspec": {
      "name": "python3",
      "display_name": "Python 3"
    },
    "language_info": {
      "name": "python"
    },
    "accelerator": "GPU"
  },
  "cells": [
    {
      "cell_type": "code",
      "source": [
        "import tensorflow as tf\n",
        "from tensorflow.keras import layers, models\n",
        "import numpy as np\n",
        "import matplotlib.pyplot as plt\n",
        "from tensorflow.keras import backend as K\n"
      ],
      "metadata": {
        "id": "xdZA75XFtR9-"
      },
      "execution_count": 1,
      "outputs": []
    },
    {
      "cell_type": "code",
      "source": [
        "# Load and preprocess MNIST dataset\n",
        "(x_train, _), (x_test, _) = tf.keras.datasets.mnist.load_data()\n",
        "x_train = x_train.astype('float32') / 255.0\n",
        "x_test = x_test.astype('float32') / 255.0\n",
        "x_train = x_train.reshape(-1, 28, 28, 1)\n",
        "x_test = x_test.reshape(-1, 28, 28, 1)"
      ],
      "metadata": {
        "id": "C7Zdupm9tSD9",
        "colab": {
          "base_uri": "https://localhost:8080/"
        },
        "outputId": "976d3998-302b-4e59-8543-6e7b189c284b"
      },
      "execution_count": 2,
      "outputs": [
        {
          "output_type": "stream",
          "name": "stdout",
          "text": [
            "Downloading data from https://storage.googleapis.com/tensorflow/tf-keras-datasets/mnist.npz\n",
            "\u001b[1m11490434/11490434\u001b[0m \u001b[32m━━━━━━━━━━━━━━━━━━━━\u001b[0m\u001b[37m\u001b[0m \u001b[1m0s\u001b[0m 0us/step\n"
          ]
        }
      ]
    },
    {
      "cell_type": "code",
      "source": [
        "# Parameters\n",
        "latent_dim = 64  # Latent space dimension\n",
        "epochs = 10\n",
        "batch_size = 128"
      ],
      "metadata": {
        "id": "YtFZHXwTtSHR"
      },
      "execution_count": 3,
      "outputs": []
    },
    {
      "cell_type": "code",
      "source": [
        "# Define Normal Autoencoder\n",
        "def build_autoencoder():\n",
        "    # Encoder\n",
        "    encoder_inputs = layers.Input(shape=(28, 28, 1))\n",
        "    x = layers.Conv2D(32, 3, activation='relu', padding='same')(encoder_inputs)\n",
        "    x = layers.MaxPooling2D(2, padding='same')(x)\n",
        "    x = layers.Conv2D(64, 3, activation='relu', padding='same')(x)\n",
        "    x = layers.MaxPooling2D(2, padding='same')(x)\n",
        "    x = layers.Flatten()(x)\n",
        "    latent = layers.Dense(latent_dim, activation='relu')(x)\n",
        "    encoder = models.Model(encoder_inputs, latent, name='encoder')\n",
        "\n",
        "    # Decoder\n",
        "    decoder_inputs = layers.Input(shape=(latent_dim,))\n",
        "    x = layers.Dense(7*7*64, activation='relu')(decoder_inputs)\n",
        "    x = layers.Reshape((7, 7, 64))(x)\n",
        "    x = layers.Conv2DTranspose(64, 3, activation='relu', strides=2, padding='same')(x)\n",
        "    x = layers.Conv2DTranspose(32, 3, activation='relu', strides=2, padding='same')(x)\n",
        "    decoder_outputs = layers.Conv2D(1, 3, activation='sigmoid', padding='same')(x)\n",
        "    decoder = models.Model(decoder_inputs, decoder_outputs, name='decoder')\n",
        "\n",
        "    # Autoencoder\n",
        "    autoencoder = models.Model(encoder_inputs, decoder(encoder(encoder_inputs)), name='autoencoder')\n",
        "    return encoder, decoder, autoencoder\n",
        "\n",
        "encoder, decoder, autoencoder = build_autoencoder()\n",
        "autoencoder.compile(optimizer='adam', loss='binary_crossentropy')\n",
        "\n",
        "# Train\n",
        "autoencoder.fit(x_train, x_train, epochs=epochs, batch_size=batch_size, validation_data=(x_test, x_test))\n",
        "\n",
        "# Evaluate\n",
        "loss = autoencoder.evaluate(x_test, x_test)\n",
        "print(f\"Normal Autoencoder Test Loss: {loss}\")"
      ],
      "metadata": {
        "id": "YYZIk7NHtSKk",
        "colab": {
          "base_uri": "https://localhost:8080/"
        },
        "outputId": "6e525c6a-fbc5-4b6a-a5bd-765b0bd19760"
      },
      "execution_count": 4,
      "outputs": [
        {
          "output_type": "stream",
          "name": "stdout",
          "text": [
            "Epoch 1/10\n",
            "\u001b[1m469/469\u001b[0m \u001b[32m━━━━━━━━━━━━━━━━━━━━\u001b[0m\u001b[37m\u001b[0m \u001b[1m13s\u001b[0m 15ms/step - loss: 0.2778 - val_loss: 0.0976\n",
            "Epoch 2/10\n",
            "\u001b[1m469/469\u001b[0m \u001b[32m━━━━━━━━━━━━━━━━━━━━\u001b[0m\u001b[37m\u001b[0m \u001b[1m13s\u001b[0m 8ms/step - loss: 0.0951 - val_loss: 0.0863\n",
            "Epoch 3/10\n",
            "\u001b[1m469/469\u001b[0m \u001b[32m━━━━━━━━━━━━━━━━━━━━\u001b[0m\u001b[37m\u001b[0m \u001b[1m5s\u001b[0m 9ms/step - loss: 0.0864 - val_loss: 0.0833\n",
            "Epoch 4/10\n",
            "\u001b[1m469/469\u001b[0m \u001b[32m━━━━━━━━━━━━━━━━━━━━\u001b[0m\u001b[37m\u001b[0m \u001b[1m4s\u001b[0m 8ms/step - loss: 0.0832 - val_loss: 0.0808\n",
            "Epoch 5/10\n",
            "\u001b[1m469/469\u001b[0m \u001b[32m━━━━━━━━━━━━━━━━━━━━\u001b[0m\u001b[37m\u001b[0m \u001b[1m5s\u001b[0m 8ms/step - loss: 0.0815 - val_loss: 0.0791\n",
            "Epoch 6/10\n",
            "\u001b[1m469/469\u001b[0m \u001b[32m━━━━━━━━━━━━━━━━━━━━\u001b[0m\u001b[37m\u001b[0m \u001b[1m4s\u001b[0m 8ms/step - loss: 0.0795 - val_loss: 0.0779\n",
            "Epoch 7/10\n",
            "\u001b[1m469/469\u001b[0m \u001b[32m━━━━━━━━━━━━━━━━━━━━\u001b[0m\u001b[37m\u001b[0m \u001b[1m5s\u001b[0m 8ms/step - loss: 0.0781 - val_loss: 0.0771\n",
            "Epoch 8/10\n",
            "\u001b[1m469/469\u001b[0m \u001b[32m━━━━━━━━━━━━━━━━━━━━\u001b[0m\u001b[37m\u001b[0m \u001b[1m4s\u001b[0m 8ms/step - loss: 0.0773 - val_loss: 0.0769\n",
            "Epoch 9/10\n",
            "\u001b[1m469/469\u001b[0m \u001b[32m━━━━━━━━━━━━━━━━━━━━\u001b[0m\u001b[37m\u001b[0m \u001b[1m4s\u001b[0m 8ms/step - loss: 0.0768 - val_loss: 0.0764\n",
            "Epoch 10/10\n",
            "\u001b[1m469/469\u001b[0m \u001b[32m━━━━━━━━━━━━━━━━━━━━\u001b[0m\u001b[37m\u001b[0m \u001b[1m5s\u001b[0m 8ms/step - loss: 0.0764 - val_loss: 0.0754\n",
            "\u001b[1m313/313\u001b[0m \u001b[32m━━━━━━━━━━━━━━━━━━━━\u001b[0m\u001b[37m\u001b[0m \u001b[1m1s\u001b[0m 2ms/step - loss: 0.0748\n",
            "Normal Autoencoder Test Loss: 0.07541674375534058\n"
          ]
        }
      ]
    },
    {
      "cell_type": "code",
      "source": [
        "# Add noise to training data\n",
        "noise_factor = 0.5\n",
        "x_train_noisy = x_train + noise_factor * np.random.normal(loc=0.0, scale=1.0, size=x_train.shape)\n",
        "x_test_noisy = x_test + noise_factor * np.random.normal(loc=0.0, scale=1.0, size=x_test.shape)\n",
        "x_train_noisy = np.clip(x_train_noisy, 0., 1.)\n",
        "x_test_noisy = np.clip(x_test_noisy, 0., 1.)\n",
        "\n",
        "# Build Denoising Autoencoder (same architecture as normal autoencoder)\n",
        "encoder_denoise, decoder_denoise, autoencoder_denoise = build_autoencoder()\n",
        "autoencoder_denoise.compile(optimizer='adam', loss='binary_crossentropy')\n",
        "\n",
        "# Train\n",
        "autoencoder_denoise.fit(x_train_noisy, x_train, epochs=epochs, batch_size=batch_size, validation_data=(x_test_noisy, x_test))\n",
        "\n",
        "# Evaluate\n",
        "loss_denoise = autoencoder_denoise.evaluate(x_test_noisy, x_test)\n",
        "print(f\"Denoising Autoencoder Test Loss: {loss_denoise}\")"
      ],
      "metadata": {
        "colab": {
          "base_uri": "https://localhost:8080/"
        },
        "id": "xDder0McL2AK",
        "outputId": "aa729a45-8e1d-4b09-f683-201947205e23"
      },
      "execution_count": 5,
      "outputs": [
        {
          "output_type": "stream",
          "name": "stdout",
          "text": [
            "Epoch 1/10\n",
            "\u001b[1m469/469\u001b[0m \u001b[32m━━━━━━━━━━━━━━━━━━━━\u001b[0m\u001b[37m\u001b[0m \u001b[1m10s\u001b[0m 13ms/step - loss: 0.2899 - val_loss: 0.1320\n",
            "Epoch 2/10\n",
            "\u001b[1m469/469\u001b[0m \u001b[32m━━━━━━━━━━━━━━━━━━━━\u001b[0m\u001b[37m\u001b[0m \u001b[1m6s\u001b[0m 8ms/step - loss: 0.1251 - val_loss: 0.1110\n",
            "Epoch 3/10\n",
            "\u001b[1m469/469\u001b[0m \u001b[32m━━━━━━━━━━━━━━━━━━━━\u001b[0m\u001b[37m\u001b[0m \u001b[1m4s\u001b[0m 8ms/step - loss: 0.1092 - val_loss: 0.1037\n",
            "Epoch 4/10\n",
            "\u001b[1m469/469\u001b[0m \u001b[32m━━━━━━━━━━━━━━━━━━━━\u001b[0m\u001b[37m\u001b[0m \u001b[1m4s\u001b[0m 9ms/step - loss: 0.1040 - val_loss: 0.1015\n",
            "Epoch 5/10\n",
            "\u001b[1m469/469\u001b[0m \u001b[32m━━━━━━━━━━━━━━━━━━━━\u001b[0m\u001b[37m\u001b[0m \u001b[1m4s\u001b[0m 9ms/step - loss: 0.1015 - val_loss: 0.1002\n",
            "Epoch 6/10\n",
            "\u001b[1m469/469\u001b[0m \u001b[32m━━━━━━━━━━━━━━━━━━━━\u001b[0m\u001b[37m\u001b[0m \u001b[1m5s\u001b[0m 8ms/step - loss: 0.1000 - val_loss: 0.0991\n",
            "Epoch 7/10\n",
            "\u001b[1m469/469\u001b[0m \u001b[32m━━━━━━━━━━━━━━━━━━━━\u001b[0m\u001b[37m\u001b[0m \u001b[1m4s\u001b[0m 8ms/step - loss: 0.0985 - val_loss: 0.0980\n",
            "Epoch 8/10\n",
            "\u001b[1m469/469\u001b[0m \u001b[32m━━━━━━━━━━━━━━━━━━━━\u001b[0m\u001b[37m\u001b[0m \u001b[1m4s\u001b[0m 8ms/step - loss: 0.0975 - val_loss: 0.0976\n",
            "Epoch 9/10\n",
            "\u001b[1m469/469\u001b[0m \u001b[32m━━━━━━━━━━━━━━━━━━━━\u001b[0m\u001b[37m\u001b[0m \u001b[1m4s\u001b[0m 8ms/step - loss: 0.0969 - val_loss: 0.0968\n",
            "Epoch 10/10\n",
            "\u001b[1m469/469\u001b[0m \u001b[32m━━━━━━━━━━━━━━━━━━━━\u001b[0m\u001b[37m\u001b[0m \u001b[1m5s\u001b[0m 9ms/step - loss: 0.0959 - val_loss: 0.0966\n",
            "\u001b[1m313/313\u001b[0m \u001b[32m━━━━━━━━━━━━━━━━━━━━\u001b[0m\u001b[37m\u001b[0m \u001b[1m1s\u001b[0m 2ms/step - loss: 0.0964\n",
            "Denoising Autoencoder Test Loss: 0.09655497968196869\n"
          ]
        }
      ]
    },
    {
      "cell_type": "code",
      "source": [
        "\n",
        "\n",
        "# Reparameterization trick\n",
        "def sampling(args):\n",
        "    z_mean, z_log_var = args\n",
        "    batch = K.shape(z_mean)[0]\n",
        "    dim = K.int_shape(z_mean)[1]\n",
        "    epsilon = K.random_normal(shape=(batch, dim))\n",
        "    return z_mean + K.exp(0.5 * z_log_var) * epsilon\n",
        "\n",
        "\n"
      ],
      "metadata": {
        "id": "5yRqMp5UttDu"
      },
      "execution_count": 6,
      "outputs": []
    },
    {
      "cell_type": "code",
      "source": [
        "# Define VAE\n",
        "class VAE(tf.keras.Model):\n",
        "    def __init__(self, encoder, decoder, **kwargs):\n",
        "        super(VAE, self).__init__(**kwargs)\n",
        "        self.encoder = encoder\n",
        "        self.decoder = decoder\n",
        "        self.total_loss_tracker = tf.keras.metrics.Mean(name=\"total_loss\")\n",
        "        self.reconstruction_loss_tracker = tf.keras.metrics.Mean(\n",
        "            name=\"reconstruction_loss\"\n",
        "        )\n",
        "        self.kl_loss_tracker = tf.keras.metrics.Mean(name=\"kl_loss\")\n",
        "\n",
        "    @property\n",
        "    def metrics(self):\n",
        "        return [\n",
        "            self.total_loss_tracker,\n",
        "            self.reconstruction_loss_tracker,\n",
        "            self.kl_loss_tracker,\n",
        "        ]\n",
        "\n",
        "    def train_step(self, data):\n",
        "        with tf.GradientTape() as tape:\n",
        "            z_mean, z_log_var, z = self.encoder(data)\n",
        "            reconstruction = self.decoder(z)\n",
        "            reconstruction_loss = tf.reduce_mean(\n",
        "                tf.reduce_sum(\n",
        "                    tf.keras.losses.binary_crossentropy(data, reconstruction), axis=(1, 2)\n",
        "                )\n",
        "            )\n",
        "            kl_loss = -0.5 * (1 + z_log_var - tf.square(z_mean) - tf.exp(z_log_var))\n",
        "            kl_loss = tf.reduce_mean(tf.reduce_sum(kl_loss, axis=1))\n",
        "            total_loss = reconstruction_loss + kl_loss\n",
        "\n",
        "        grads = tape.gradient(total_loss, self.trainable_weights)\n",
        "        self.optimizer.apply_gradients(zip(grads, self.trainable_weights))\n",
        "        self.total_loss_tracker.update_state(total_loss)\n",
        "        self.reconstruction_loss_tracker.update_state(reconstruction_loss)\n",
        "        self.kl_loss_tracker.update_state(kl_loss)\n",
        "        return {\n",
        "            \"loss\": self.total_loss_tracker.result(),\n",
        "            \"reconstruction_loss\": self.reconstruction_loss_tracker.result(),\n",
        "            \"kl_loss\": self.kl_loss_tracker.result(),\n",
        "        }\n",
        "\n",
        "    def call(self, inputs):\n",
        "        z_mean, z_log_var, z = self.encoder(inputs)\n",
        "        reconstruction = self.decoder(z)\n",
        "        return reconstruction\n",
        "\n",
        "\n",
        "def build_vae_components():\n",
        "    # Encoder\n",
        "    encoder_inputs = layers.Input(shape=(28, 28, 1))\n",
        "    x = layers.Conv2D(32, 3, activation='relu', padding='same')(encoder_inputs)\n",
        "    x = layers.MaxPooling2D(2, padding='same')(x)\n",
        "    x = layers.Conv2D(64, 3, activation='relu', padding='same')(x)\n",
        "    x = layers.MaxPooling2D(2, padding='same')(x)\n",
        "    x = layers.Flatten()(x)\n",
        "    z_mean = layers.Dense(latent_dim)(x)\n",
        "    z_log_var = layers.Dense(latent_dim)(x)\n",
        "    z = layers.Lambda(sampling)([z_mean, z_log_var])\n",
        "    encoder = models.Model(encoder_inputs, [z_mean, z_log_var, z], name='encoder')\n",
        "\n",
        "    # Decoder\n",
        "    decoder_inputs = layers.Input(shape=(latent_dim,))\n",
        "    x = layers.Dense(7*7*64, activation='relu')(decoder_inputs)\n",
        "    x = layers.Reshape((7, 7, 64))(x)\n",
        "    x = layers.Conv2DTranspose(64, 3, activation='relu', strides=2, padding='same')(x)\n",
        "    x = layers.Conv2DTranspose(32, 3, activation='relu', strides=2, padding='same')(x)\n",
        "    decoder_outputs = layers.Conv2D(1, 3, activation='sigmoid', padding='same')(x)\n",
        "    decoder = models.Model(decoder_inputs, decoder_outputs, name='decoder')\n",
        "\n",
        "    return encoder, decoder\n",
        "\n",
        "encoder_vae, decoder_vae = build_vae_components()\n",
        "vae = VAE(encoder_vae, decoder_vae)\n",
        "vae.compile(optimizer='adam')\n",
        "\n",
        "# Custom training loop\n",
        "train_dataset = tf.data.Dataset.from_tensor_slices(x_train).batch(batch_size)\n",
        "test_dataset = tf.data.Dataset.from_tensor_slices(x_test).batch(batch_size)\n",
        "\n",
        "for epoch in range(epochs):\n",
        "    print(f\"\\nEpoch {epoch+1}/{epochs}\")\n",
        "    # Train\n",
        "    for step, x_batch_train in enumerate(train_dataset):\n",
        "        vae.train_step(x_batch_train)\n",
        "        if step % 100 == 0:\n",
        "            print(f\"Step {step}: loss = {vae.total_loss_tracker.result():.4f}, reconstruction_loss = {vae.reconstruction_loss_tracker.result():.4f}, kl_loss = {vae.kl_loss_tracker.result():.4f}\")\n",
        "\n",
        "    reconstruction_losses = []\n",
        "    for x_batch_test in test_dataset:\n",
        "        reconstruction = vae(x_batch_test)\n",
        "        reconstruction_loss_batch = tf.reduce_mean(\n",
        "            tf.reduce_sum(\n",
        "                tf.keras.losses.binary_crossentropy(x_batch_test, reconstruction), axis=(1, 2)\n",
        "            )\n",
        "        )\n",
        "        reconstruction_losses.append(reconstruction_loss_batch.numpy())\n",
        "    vae_reconstruction_loss = np.mean(reconstruction_losses)\n",
        "    print(f\"VAE Reconstruction Test Loss: {vae_reconstruction_loss:.4f}\")\n"
      ],
      "metadata": {
        "id": "vNV0BT-attv-",
        "colab": {
          "base_uri": "https://localhost:8080/"
        },
        "outputId": "0a7e7231-cf08-4edf-ad48-879ad30381aa"
      },
      "execution_count": 9,
      "outputs": [
        {
          "output_type": "stream",
          "name": "stdout",
          "text": [
            "\n",
            "Epoch 1/10\n",
            "Step 0: loss = 547.0151, reconstruction_loss = 546.6083, kl_loss = 0.4068\n",
            "Step 100: loss = 252.8608, reconstruction_loss = 245.3358, kl_loss = 7.5249\n",
            "Step 200: loss = 216.5104, reconstruction_loss = 206.2300, kl_loss = 10.2804\n",
            "Step 300: loss = 196.2525, reconstruction_loss = 183.3498, kl_loss = 12.9027\n",
            "Step 400: loss = 180.9644, reconstruction_loss = 165.4965, kl_loss = 15.4679\n",
            "VAE Reconstruction Test Loss: 98.6122\n",
            "\n",
            "Epoch 2/10\n",
            "Step 0: loss = 172.7638, reconstruction_loss = 155.9894, kl_loss = 16.7743\n",
            "Step 100: loss = 163.4853, reconstruction_loss = 145.2191, kl_loss = 18.2661\n",
            "Step 200: loss = 156.4987, reconstruction_loss = 137.1111, kl_loss = 19.3874\n",
            "Step 300: loss = 150.9686, reconstruction_loss = 130.7421, kl_loss = 20.2263\n",
            "Step 400: loss = 146.5552, reconstruction_loss = 125.6614, kl_loss = 20.8937\n",
            "VAE Reconstruction Test Loss: 83.5329\n",
            "\n",
            "Epoch 3/10\n",
            "Step 0: loss = 143.9312, reconstruction_loss = 122.6635, kl_loss = 21.2676\n",
            "Step 100: loss = 140.6027, reconstruction_loss = 118.8737, kl_loss = 21.7289\n",
            "Step 200: loss = 137.8316, reconstruction_loss = 115.6886, kl_loss = 22.1429\n",
            "Step 300: loss = 135.4666, reconstruction_loss = 112.9883, kl_loss = 22.4782\n",
            "Step 400: loss = 133.4417, reconstruction_loss = 110.6705, kl_loss = 22.7710\n",
            "VAE Reconstruction Test Loss: 79.7368\n",
            "\n",
            "Epoch 4/10\n",
            "Step 0: loss = 132.1656, reconstruction_loss = 109.2160, kl_loss = 22.9495\n",
            "Step 100: loss = 130.4493, reconstruction_loss = 107.2754, kl_loss = 23.1738\n",
            "Step 200: loss = 128.9491, reconstruction_loss = 105.5661, kl_loss = 23.3828\n",
            "Step 300: loss = 127.6290, reconstruction_loss = 104.0673, kl_loss = 23.5615\n",
            "Step 400: loss = 126.4469, reconstruction_loss = 102.7225, kl_loss = 23.7242\n",
            "VAE Reconstruction Test Loss: 78.5726\n",
            "\n",
            "Epoch 5/10\n",
            "Step 0: loss = 125.6727, reconstruction_loss = 101.8526, kl_loss = 23.8199\n",
            "Step 100: loss = 124.6062, reconstruction_loss = 100.6545, kl_loss = 23.9514\n",
            "Step 200: loss = 123.6478, reconstruction_loss = 99.5645, kl_loss = 24.0831\n",
            "Step 300: loss = 122.7746, reconstruction_loss = 98.5847, kl_loss = 24.1897\n",
            "Step 400: loss = 121.9920, reconstruction_loss = 97.6970, kl_loss = 24.2948\n",
            "VAE Reconstruction Test Loss: 77.2069\n",
            "\n",
            "Epoch 6/10\n",
            "Step 0: loss = 121.4642, reconstruction_loss = 97.1077, kl_loss = 24.3562\n",
            "Step 100: loss = 120.7255, reconstruction_loss = 96.2883, kl_loss = 24.4369\n",
            "Step 200: loss = 120.0546, reconstruction_loss = 95.5287, kl_loss = 24.5257\n",
            "Step 300: loss = 119.4389, reconstruction_loss = 94.8401, kl_loss = 24.5986\n",
            "Step 400: loss = 118.8717, reconstruction_loss = 94.2019, kl_loss = 24.6696\n",
            "VAE Reconstruction Test Loss: 77.0280\n",
            "\n",
            "Epoch 7/10\n",
            "Step 0: loss = 118.4876, reconstruction_loss = 93.7784, kl_loss = 24.7090\n",
            "Step 100: loss = 117.9375, reconstruction_loss = 93.1729, kl_loss = 24.7645\n",
            "Step 200: loss = 117.4343, reconstruction_loss = 92.6077, kl_loss = 24.8264\n",
            "Step 300: loss = 116.9723, reconstruction_loss = 92.0938, kl_loss = 24.8785\n",
            "Step 400: loss = 116.5467, reconstruction_loss = 91.6137, kl_loss = 24.9329\n",
            "VAE Reconstruction Test Loss: 75.8294\n",
            "\n",
            "Epoch 8/10\n",
            "Step 0: loss = 116.2511, reconstruction_loss = 91.2897, kl_loss = 24.9612\n",
            "Step 100: loss = 115.8267, reconstruction_loss = 90.8257, kl_loss = 25.0009\n",
            "Step 200: loss = 115.4357, reconstruction_loss = 90.3909, kl_loss = 25.0447\n",
            "Step 300: loss = 115.0759, reconstruction_loss = 89.9915, kl_loss = 25.0842\n",
            "Step 400: loss = 114.7402, reconstruction_loss = 89.6187, kl_loss = 25.1212\n",
            "VAE Reconstruction Test Loss: 75.5473\n",
            "\n",
            "Epoch 9/10\n",
            "Step 0: loss = 114.5075, reconstruction_loss = 89.3653, kl_loss = 25.1421\n",
            "Step 100: loss = 114.1651, reconstruction_loss = 88.9935, kl_loss = 25.1714\n",
            "Step 200: loss = 113.8480, reconstruction_loss = 88.6415, kl_loss = 25.2063\n",
            "Step 300: loss = 113.5519, reconstruction_loss = 88.3182, kl_loss = 25.2335\n",
            "Step 400: loss = 113.2778, reconstruction_loss = 88.0158, kl_loss = 25.2618\n",
            "VAE Reconstruction Test Loss: 75.0863\n",
            "\n",
            "Epoch 10/10\n",
            "Step 0: loss = 113.0861, reconstruction_loss = 87.8085, kl_loss = 25.2775\n",
            "Step 100: loss = 112.8040, reconstruction_loss = 87.5041, kl_loss = 25.2998\n",
            "Step 200: loss = 112.5423, reconstruction_loss = 87.2165, kl_loss = 25.3256\n",
            "Step 300: loss = 112.2977, reconstruction_loss = 86.9501, kl_loss = 25.3475\n",
            "Step 400: loss = 112.0708, reconstruction_loss = 86.6993, kl_loss = 25.3714\n",
            "VAE Reconstruction Test Loss: 74.4734\n"
          ]
        }
      ]
    },
    {
      "cell_type": "code",
      "execution_count": 10,
      "metadata": {
        "id": "1pRaLF3ZI2uR"
      },
      "outputs": [],
      "source": [
        "# Generate 5 noise vectors\n",
        "num_samples = 5\n",
        "noise_vectors = np.random.normal(loc=5.0, scale=1.0, size=(num_samples, latent_dim))"
      ]
    },
    {
      "cell_type": "code",
      "source": [
        "# Generate images\n",
        "generated_images = decoder.predict(noise_vectors)\n",
        "generated_images = generated_images.reshape(num_samples, 28, 28)\n",
        "\n",
        "# Plot images\n",
        "plt.figure(figsize=(15, 3))\n",
        "for i in range(num_samples):\n",
        "    plt.subplot(1, num_samples, i+1)\n",
        "    plt.imshow(generated_images[i], cmap='gray')\n",
        "    plt.axis('off')\n",
        "    plt.title(f\"Image {i+1}\")\n",
        "plt.suptitle(\"Normal Autoencoder Generated Images\")# Generate images\n",
        "generated_images_denoise = decoder_denoise.predict(noise_vectors)\n",
        "generated_images_denoise = generated_images_denoise.reshape(num_samples, 28, 28)\n",
        "\n"
      ],
      "metadata": {
        "colab": {
          "base_uri": "https://localhost:8080/",
          "height": 317
        },
        "id": "hk2oSAsfHmS6",
        "outputId": "7ceb2c82-a205-48bf-b32b-95729acdc97b"
      },
      "execution_count": 14,
      "outputs": [
        {
          "output_type": "stream",
          "name": "stdout",
          "text": [
            "\u001b[1m1/1\u001b[0m \u001b[32m━━━━━━━━━━━━━━━━━━━━\u001b[0m\u001b[37m\u001b[0m \u001b[1m0s\u001b[0m 29ms/step\n",
            "\u001b[1m1/1\u001b[0m \u001b[32m━━━━━━━━━━━━━━━━━━━━\u001b[0m\u001b[37m\u001b[0m \u001b[1m0s\u001b[0m 28ms/step\n"
          ]
        },
        {
          "output_type": "display_data",
          "data": {
            "text/plain": [
              "<Figure size 1500x300 with 5 Axes>"
            ],
            "image/png": "[encoded data removed]"
          },
          "metadata": {}
        }
      ]
    },
    {
      "cell_type": "code",
      "source": [
        "# Generate images\n",
        "generated_images_denoise = decoder_denoise.predict(noise_vectors)\n",
        "generated_images_denoise = generated_images_denoise.reshape(num_samples, 28, 28)\n",
        "\n",
        "# Plot images\n",
        "plt.figure(figsize=(15, 3))\n",
        "for i in range(num_samples):\n",
        "    plt.subplot(1, num_samples, i+1)\n",
        "    plt.imshow(generated_images_denoise[i], cmap='gray')\n",
        "    plt.axis('off')\n",
        "    plt.title(f\"Image {i+1}\")\n",
        "plt.suptitle(\"Denoising Autoencoder Generated Images\")\n",
        "plt.show()"
      ],
      "metadata": {
        "colab": {
          "base_uri": "https://localhost:8080/",
          "height": 299
        },
        "id": "XhfjqKf7HqFs",
        "outputId": "ac0edc5a-176b-491a-9a05-dcd8174160c8"
      },
      "execution_count": 12,
      "outputs": [
        {
          "output_type": "stream",
          "name": "stdout",
          "text": [
            "\u001b[1m1/1\u001b[0m \u001b[32m━━━━━━━━━━━━━━━━━━━━\u001b[0m\u001b[37m\u001b[0m \u001b[1m0s\u001b[0m 28ms/step\n"
          ]
        },
        {
          "output_type": "display_data",
          "data": {
            "text/plain": [
              "<Figure size 1500x300 with 5 Axes>"
            ],
            "image/png": "[encoded data removed]"
          },
          "metadata": {}
        }
      ]
    },
    {
      "cell_type": "code",
      "source": [
        "# Generate images\n",
        "generated_images_vae = decoder_vae.predict(noise_vectors)\n",
        "generated_images_vae = generated_images_vae.reshape(num_samples, 28, 28)\n",
        "\n",
        "# Plot images\n",
        "plt.figure(figsize=(15, 3))\n",
        "for i in range(num_samples):\n",
        "    plt.subplot(1, num_samples, i+1)\n",
        "    plt.imshow(generated_images_vae[i], cmap='gray')\n",
        "    plt.axis('off')\n",
        "    plt.title(f\"Image {i+1}\")\n",
        "plt.suptitle(\"Variational Autoencoder Generated Images\")\n",
        "plt.show()"
      ],
      "metadata": {
        "colab": {
          "base_uri": "https://localhost:8080/",
          "height": 299
        },
        "id": "I6f3dBdcHtAg",
        "outputId": "b9914368-8d57-4bf2-ef53-6d69800baf8a"
      },
      "execution_count": 13,
      "outputs": [
        {
          "output_type": "stream",
          "name": "stdout",
          "text": [
            "\u001b[1m1/1\u001b[0m \u001b[32m━━━━━━━━━━━━━━━━━━━━\u001b[0m\u001b[37m\u001b[0m \u001b[1m0s\u001b[0m 288ms/step\n"
          ]
        },
        {
          "output_type": "display_data",
          "data": {
            "text/plain": [
              "<Figure size 1500x300 with 5 Axes>"
            ],
            "image/png": "[encoded data removed]"
          },
          "metadata": {}
        }
      ]
    }
  ]
}