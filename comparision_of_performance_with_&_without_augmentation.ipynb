{
  "nbformat": 4,
  "nbformat_minor": 0,
  "metadata": {
    "colab": {
      "provenance": [],
      "gpuType": "T4"
    },
    "kernelspec": {
      "name": "python3",
      "display_name": "Python 3"
    },
    "language_info": {
      "name": "python"
    },
    "accelerator": "GPU"
  },
  "cells": [
    {
      "cell_type": "code",
      "source": [
        "\n",
        "import tensorflow as tf\n",
        "from tensorflow.keras import layers, models\n",
        "import matplotlib.pyplot as plt\n",
        "import numpy as np\n",
        "\n",
        "\n"
      ],
      "metadata": {
        "id": "tXVKtf8CfTxx"
      },
      "execution_count": 13,
      "outputs": []
    },
    {
      "cell_type": "code",
      "source": [
        "(x_train, y_train), (x_test, y_test) = tf.keras.datasets.cifar10.load_data()\n",
        "x_train = x_train.astype(\"float32\") / 255.0\n",
        "x_test = x_test.astype(\"float32\") / 255.0\n",
        "\n",
        "y_train = tf.keras.utils.to_categorical(y_train, 10)\n",
        "y_test = tf.keras.utils.to_categorical(y_test, 10)"
      ],
      "metadata": {
        "id": "-m_jNzOSfWfr"
      },
      "execution_count": 14,
      "outputs": []
    },
    {
      "cell_type": "code",
      "source": [
        "def build_cnn_model():\n",
        "    model = models.Sequential([\n",
        "        layers.Conv2D(32, (3,3), activation='relu', padding='same', input_shape=(32,32,3)),\n",
        "        layers.MaxPooling2D((2,2)),\n",
        "        layers.Conv2D(64, (3,3), activation='relu', padding='same'),\n",
        "        layers.MaxPooling2D((2,2)),\n",
        "        layers.Conv2D(128, (3,3), activation='relu', padding='same'),\n",
        "        layers.GlobalAveragePooling2D(),\n",
        "        layers.Dense(64, activation='relu'),\n",
        "        layers.Dense(10, activation='softmax')\n",
        "    ])\n",
        "    model.compile(optimizer='adam', loss='categorical_crossentropy', metrics=['accuracy'])\n",
        "    return model"
      ],
      "metadata": {
        "id": "TGtMDQIVfWoB"
      },
      "execution_count": 15,
      "outputs": []
    },
    {
      "cell_type": "code",
      "source": [
        "\n",
        "model_no_aug = build_cnn_model()\n",
        "history_no_aug = model_no_aug.fit(\n",
        "    x_train, y_train,\n",
        "    epochs=20,\n",
        "    batch_size=64,\n",
        "    validation_data=(x_test, y_test),\n",
        "    verbose=2\n",
        ")\n"
      ],
      "metadata": {
        "colab": {
          "base_uri": "https://localhost:8080/"
        },
        "id": "NP_CsUaSfcTK",
        "outputId": "76173864-23d7-4321-ba6a-9d21a93e30fe"
      },
      "execution_count": 16,
      "outputs": [
        {
          "output_type": "stream",
          "name": "stderr",
          "text": [
            "/usr/local/lib/python3.11/dist-packages/keras/src/layers/convolutional/base_conv.py:107: UserWarning: Do not pass an `input_shape`/`input_dim` argument to a layer. When using Sequential models, prefer using an `Input(shape)` object as the first layer in the model instead.\n",
            "  super().__init__(activity_regularizer=activity_regularizer, **kwargs)\n"
          ]
        },
        {
          "output_type": "stream",
          "name": "stdout",
          "text": [
            "Epoch 1/20\n",
            "782/782 - 10s - 12ms/step - accuracy: 0.3123 - loss: 1.8074 - val_accuracy: 0.3878 - val_loss: 1.6807\n",
            "Epoch 2/20\n",
            "782/782 - 3s - 4ms/step - accuracy: 0.4379 - loss: 1.5150 - val_accuracy: 0.4717 - val_loss: 1.4394\n",
            "Epoch 3/20\n",
            "782/782 - 4s - 5ms/step - accuracy: 0.5039 - loss: 1.3533 - val_accuracy: 0.5227 - val_loss: 1.3110\n",
            "Epoch 4/20\n",
            "782/782 - 5s - 6ms/step - accuracy: 0.5486 - loss: 1.2445 - val_accuracy: 0.5555 - val_loss: 1.2077\n",
            "Epoch 5/20\n",
            "782/782 - 5s - 7ms/step - accuracy: 0.5790 - loss: 1.1660 - val_accuracy: 0.5959 - val_loss: 1.1254\n",
            "Epoch 6/20\n",
            "782/782 - 4s - 5ms/step - accuracy: 0.6040 - loss: 1.1024 - val_accuracy: 0.6092 - val_loss: 1.0994\n",
            "Epoch 7/20\n",
            "782/782 - 4s - 5ms/step - accuracy: 0.6224 - loss: 1.0504 - val_accuracy: 0.6251 - val_loss: 1.0451\n",
            "Epoch 8/20\n",
            "782/782 - 4s - 4ms/step - accuracy: 0.6407 - loss: 1.0102 - val_accuracy: 0.6318 - val_loss: 1.0194\n",
            "Epoch 9/20\n",
            "782/782 - 4s - 5ms/step - accuracy: 0.6550 - loss: 0.9703 - val_accuracy: 0.6361 - val_loss: 1.0157\n",
            "Epoch 10/20\n",
            "782/782 - 3s - 4ms/step - accuracy: 0.6733 - loss: 0.9303 - val_accuracy: 0.6632 - val_loss: 0.9492\n",
            "Epoch 11/20\n",
            "782/782 - 3s - 4ms/step - accuracy: 0.6835 - loss: 0.8996 - val_accuracy: 0.6695 - val_loss: 0.9309\n",
            "Epoch 12/20\n",
            "782/782 - 6s - 8ms/step - accuracy: 0.6942 - loss: 0.8650 - val_accuracy: 0.6966 - val_loss: 0.8683\n",
            "Epoch 13/20\n",
            "782/782 - 5s - 6ms/step - accuracy: 0.7074 - loss: 0.8325 - val_accuracy: 0.6968 - val_loss: 0.8599\n",
            "Epoch 14/20\n",
            "782/782 - 3s - 4ms/step - accuracy: 0.7184 - loss: 0.8082 - val_accuracy: 0.7051 - val_loss: 0.8389\n",
            "Epoch 15/20\n",
            "782/782 - 6s - 7ms/step - accuracy: 0.7242 - loss: 0.7845 - val_accuracy: 0.6990 - val_loss: 0.8574\n",
            "Epoch 16/20\n",
            "782/782 - 3s - 4ms/step - accuracy: 0.7327 - loss: 0.7609 - val_accuracy: 0.7099 - val_loss: 0.8333\n",
            "Epoch 17/20\n",
            "782/782 - 6s - 7ms/step - accuracy: 0.7409 - loss: 0.7389 - val_accuracy: 0.7054 - val_loss: 0.8555\n",
            "Epoch 18/20\n",
            "782/782 - 5s - 6ms/step - accuracy: 0.7501 - loss: 0.7181 - val_accuracy: 0.7224 - val_loss: 0.7937\n",
            "Epoch 19/20\n",
            "782/782 - 6s - 7ms/step - accuracy: 0.7540 - loss: 0.7011 - val_accuracy: 0.7310 - val_loss: 0.7668\n",
            "Epoch 20/20\n",
            "782/782 - 4s - 5ms/step - accuracy: 0.7618 - loss: 0.6801 - val_accuracy: 0.7255 - val_loss: 0.7992\n"
          ]
        }
      ]
    },
    {
      "cell_type": "code",
      "source": [
        "\n",
        "datagen_aug = tf.keras.preprocessing.image.ImageDataGenerator(\n",
        "    rotation_range=15,\n",
        "    width_shift_range=0.1,\n",
        "    height_shift_range=0.1,\n",
        "    horizontal_flip=True\n",
        ")\n",
        "\n",
        "datagen_aug.fit(x_train)\n",
        "\n",
        "model_aug = build_cnn_model()\n",
        "history_aug = model_aug.fit(\n",
        "    datagen_aug.flow(x_train, y_train, batch_size=64),\n",
        "    steps_per_epoch=len(x_train) // 64,\n",
        "    epochs=20,\n",
        "    validation_data=(x_test, y_test),\n",
        "    verbose=2\n",
        ")\n"
      ],
      "metadata": {
        "colab": {
          "base_uri": "https://localhost:8080/"
        },
        "id": "Pu2agG1FfcWi",
        "outputId": "02947125-4930-41ad-879e-f7ab0f4f3702"
      },
      "execution_count": 17,
      "outputs": [
        {
          "output_type": "stream",
          "name": "stdout",
          "text": [
            "Epoch 1/20\n"
          ]
        },
        {
          "output_type": "stream",
          "name": "stderr",
          "text": [
            "/usr/local/lib/python3.11/dist-packages/keras/src/layers/convolutional/base_conv.py:107: UserWarning: Do not pass an `input_shape`/`input_dim` argument to a layer. When using Sequential models, prefer using an `Input(shape)` object as the first layer in the model instead.\n",
            "  super().__init__(activity_regularizer=activity_regularizer, **kwargs)\n",
            "/usr/local/lib/python3.11/dist-packages/keras/src/trainers/data_adapters/py_dataset_adapter.py:121: UserWarning: Your `PyDataset` class should call `super().__init__(**kwargs)` in its constructor. `**kwargs` can include `workers`, `use_multiprocessing`, `max_queue_size`. Do not pass these arguments to `fit()`, as they will be ignored.\n",
            "  self._warn_if_super_not_called()\n"
          ]
        },
        {
          "output_type": "stream",
          "name": "stdout",
          "text": [
            "781/781 - 32s - 41ms/step - accuracy: 0.3016 - loss: 1.8508 - val_accuracy: 0.3777 - val_loss: 1.6516\n",
            "Epoch 2/20\n"
          ]
        },
        {
          "output_type": "stream",
          "name": "stderr",
          "text": [
            "/usr/local/lib/python3.11/dist-packages/keras/src/trainers/epoch_iterator.py:107: UserWarning: Your input ran out of data; interrupting training. Make sure that your dataset or generator can generate at least `steps_per_epoch * epochs` batches. You may need to use the `.repeat()` function when building your dataset.\n",
            "  self._interrupted_warning()\n"
          ]
        },
        {
          "output_type": "stream",
          "name": "stdout",
          "text": [
            "781/781 - 1s - 2ms/step - accuracy: 0.2812 - loss: 1.6429 - val_accuracy: 0.3682 - val_loss: 1.6801\n",
            "Epoch 3/20\n",
            "781/781 - 27s - 35ms/step - accuracy: 0.4209 - loss: 1.5710 - val_accuracy: 0.4552 - val_loss: 1.4847\n",
            "Epoch 4/20\n"
          ]
        },
        {
          "output_type": "stream",
          "name": "stderr",
          "text": [
            "/usr/local/lib/python3.11/dist-packages/keras/src/trainers/epoch_iterator.py:107: UserWarning: Your input ran out of data; interrupting training. Make sure that your dataset or generator can generate at least `steps_per_epoch * epochs` batches. You may need to use the `.repeat()` function when building your dataset.\n",
            "  self._interrupted_warning()\n"
          ]
        },
        {
          "output_type": "stream",
          "name": "stdout",
          "text": [
            "781/781 - 1s - 935us/step - accuracy: 0.5938 - loss: 1.3886 - val_accuracy: 0.4487 - val_loss: 1.5037\n",
            "Epoch 5/20\n",
            "781/781 - 40s - 51ms/step - accuracy: 0.4797 - loss: 1.4248 - val_accuracy: 0.4908 - val_loss: 1.4045\n",
            "Epoch 6/20\n"
          ]
        },
        {
          "output_type": "stream",
          "name": "stderr",
          "text": [
            "/usr/local/lib/python3.11/dist-packages/keras/src/trainers/epoch_iterator.py:107: UserWarning: Your input ran out of data; interrupting training. Make sure that your dataset or generator can generate at least `steps_per_epoch * epochs` batches. You may need to use the `.repeat()` function when building your dataset.\n",
            "  self._interrupted_warning()\n"
          ]
        },
        {
          "output_type": "stream",
          "name": "stdout",
          "text": [
            "781/781 - 1s - 1ms/step - accuracy: 0.5625 - loss: 1.2950 - val_accuracy: 0.4935 - val_loss: 1.4019\n",
            "Epoch 7/20\n",
            "781/781 - 41s - 53ms/step - accuracy: 0.5144 - loss: 1.3278 - val_accuracy: 0.5365 - val_loss: 1.2764\n",
            "Epoch 8/20\n"
          ]
        },
        {
          "output_type": "stream",
          "name": "stderr",
          "text": [
            "/usr/local/lib/python3.11/dist-packages/keras/src/trainers/epoch_iterator.py:107: UserWarning: Your input ran out of data; interrupting training. Make sure that your dataset or generator can generate at least `steps_per_epoch * epochs` batches. You may need to use the `.repeat()` function when building your dataset.\n",
            "  self._interrupted_warning()\n"
          ]
        },
        {
          "output_type": "stream",
          "name": "stdout",
          "text": [
            "781/781 - 1s - 2ms/step - accuracy: 0.5781 - loss: 1.3801 - val_accuracy: 0.5361 - val_loss: 1.2854\n",
            "Epoch 9/20\n",
            "781/781 - 39s - 50ms/step - accuracy: 0.5447 - loss: 1.2548 - val_accuracy: 0.5277 - val_loss: 1.3144\n",
            "Epoch 10/20\n"
          ]
        },
        {
          "output_type": "stream",
          "name": "stderr",
          "text": [
            "/usr/local/lib/python3.11/dist-packages/keras/src/trainers/epoch_iterator.py:107: UserWarning: Your input ran out of data; interrupting training. Make sure that your dataset or generator can generate at least `steps_per_epoch * epochs` batches. You may need to use the `.repeat()` function when building your dataset.\n",
            "  self._interrupted_warning()\n"
          ]
        },
        {
          "output_type": "stream",
          "name": "stdout",
          "text": [
            "781/781 - 1s - 972us/step - accuracy: 0.4844 - loss: 1.3687 - val_accuracy: 0.5484 - val_loss: 1.2596\n",
            "Epoch 11/20\n",
            "781/781 - 27s - 35ms/step - accuracy: 0.5719 - loss: 1.1922 - val_accuracy: 0.5942 - val_loss: 1.1450\n",
            "Epoch 12/20\n"
          ]
        },
        {
          "output_type": "stream",
          "name": "stderr",
          "text": [
            "/usr/local/lib/python3.11/dist-packages/keras/src/trainers/epoch_iterator.py:107: UserWarning: Your input ran out of data; interrupting training. Make sure that your dataset or generator can generate at least `steps_per_epoch * epochs` batches. You may need to use the `.repeat()` function when building your dataset.\n",
            "  self._interrupted_warning()\n"
          ]
        },
        {
          "output_type": "stream",
          "name": "stdout",
          "text": [
            "781/781 - 1s - 1ms/step - accuracy: 0.5625 - loss: 1.1797 - val_accuracy: 0.5820 - val_loss: 1.1759\n",
            "Epoch 13/20\n",
            "781/781 - 27s - 35ms/step - accuracy: 0.5930 - loss: 1.1419 - val_accuracy: 0.5954 - val_loss: 1.1398\n",
            "Epoch 14/20\n"
          ]
        },
        {
          "output_type": "stream",
          "name": "stderr",
          "text": [
            "/usr/local/lib/python3.11/dist-packages/keras/src/trainers/epoch_iterator.py:107: UserWarning: Your input ran out of data; interrupting training. Make sure that your dataset or generator can generate at least `steps_per_epoch * epochs` batches. You may need to use the `.repeat()` function when building your dataset.\n",
            "  self._interrupted_warning()\n"
          ]
        },
        {
          "output_type": "stream",
          "name": "stdout",
          "text": [
            "781/781 - 1s - 2ms/step - accuracy: 0.6094 - loss: 1.2106 - val_accuracy: 0.5991 - val_loss: 1.1283\n",
            "Epoch 15/20\n",
            "781/781 - 27s - 35ms/step - accuracy: 0.6061 - loss: 1.1049 - val_accuracy: 0.6322 - val_loss: 1.0451\n",
            "Epoch 16/20\n"
          ]
        },
        {
          "output_type": "stream",
          "name": "stderr",
          "text": [
            "/usr/local/lib/python3.11/dist-packages/keras/src/trainers/epoch_iterator.py:107: UserWarning: Your input ran out of data; interrupting training. Make sure that your dataset or generator can generate at least `steps_per_epoch * epochs` batches. You may need to use the `.repeat()` function when building your dataset.\n",
            "  self._interrupted_warning()\n"
          ]
        },
        {
          "output_type": "stream",
          "name": "stdout",
          "text": [
            "781/781 - 1s - 1ms/step - accuracy: 0.6250 - loss: 1.0282 - val_accuracy: 0.6222 - val_loss: 1.0828\n",
            "Epoch 17/20\n",
            "781/781 - 41s - 52ms/step - accuracy: 0.6192 - loss: 1.0718 - val_accuracy: 0.6095 - val_loss: 1.1135\n",
            "Epoch 18/20\n"
          ]
        },
        {
          "output_type": "stream",
          "name": "stderr",
          "text": [
            "/usr/local/lib/python3.11/dist-packages/keras/src/trainers/epoch_iterator.py:107: UserWarning: Your input ran out of data; interrupting training. Make sure that your dataset or generator can generate at least `steps_per_epoch * epochs` batches. You may need to use the `.repeat()` function when building your dataset.\n",
            "  self._interrupted_warning()\n"
          ]
        },
        {
          "output_type": "stream",
          "name": "stdout",
          "text": [
            "781/781 - 1s - 945us/step - accuracy: 0.5781 - loss: 1.0489 - val_accuracy: 0.6224 - val_loss: 1.0724\n",
            "Epoch 19/20\n",
            "781/781 - 40s - 51ms/step - accuracy: 0.6330 - loss: 1.0323 - val_accuracy: 0.6387 - val_loss: 1.0246\n",
            "Epoch 20/20\n"
          ]
        },
        {
          "output_type": "stream",
          "name": "stderr",
          "text": [
            "/usr/local/lib/python3.11/dist-packages/keras/src/trainers/epoch_iterator.py:107: UserWarning: Your input ran out of data; interrupting training. Make sure that your dataset or generator can generate at least `steps_per_epoch * epochs` batches. You may need to use the `.repeat()` function when building your dataset.\n",
            "  self._interrupted_warning()\n"
          ]
        },
        {
          "output_type": "stream",
          "name": "stdout",
          "text": [
            "781/781 - 1s - 2ms/step - accuracy: 0.6094 - loss: 1.2331 - val_accuracy: 0.6447 - val_loss: 1.0003\n"
          ]
        }
      ]
    },
    {
      "cell_type": "code",
      "source": [
        "\n",
        "plt.figure(figsize=(10, 5))\n",
        "plt.plot(history_no_aug.history['val_accuracy'], label='No Augmentation')\n",
        "plt.plot(history_aug.history['val_accuracy'], label='With Augmentation')\n",
        "plt.title('Validation Accuracy Comparison')\n",
        "plt.xlabel('Epoch')\n",
        "plt.ylabel('Accuracy')\n",
        "plt.legend()\n",
        "plt.grid(True)\n",
        "plt.show()\n",
        "\n"
      ],
      "metadata": {
        "colab": {
          "base_uri": "https://localhost:8080/",
          "height": 487
        },
        "id": "NIqz64uEfcaN",
        "outputId": "936385de-61ac-45aa-b6cd-8545afb78a1d"
      },
      "execution_count": 18,
      "outputs": [
        {
          "output_type": "display_data",
          "data": {
            "text/plain": [
              "<Figure size 1000x500 with 1 Axes>"
            ],
            "image/png": "[encoded data removed]"
          },
          "metadata": {}
        }
      ]
    },
    {
      "cell_type": "code",
      "source": [
        "\n",
        "test_acc_no_aug = model_no_aug.evaluate(x_test, y_test, verbose=0)[1]\n",
        "test_acc_aug = model_aug.evaluate(x_test, y_test, verbose=0)[1]\n",
        "\n",
        "print(f\"🔵 Final Test Accuracy (No Aug):     {test_acc_no_aug:.4f}\")\n",
        "print(f\"🟢 Final Test Accuracy (With Aug):  {test_acc_aug:.4f}\")\n"
      ],
      "metadata": {
        "colab": {
          "base_uri": "https://localhost:8080/"
        },
        "id": "-BJ4quH4fohl",
        "outputId": "60d78c4d-4a8c-4482-f862-a543630b8e88"
      },
      "execution_count": 19,
      "outputs": [
        {
          "output_type": "stream",
          "name": "stdout",
          "text": [
            "🔵 Final Test Accuracy (No Aug):     0.7255\n",
            "🟢 Final Test Accuracy (With Aug):  0.6447\n"
          ]
        }
      ]
    }
  ]
}